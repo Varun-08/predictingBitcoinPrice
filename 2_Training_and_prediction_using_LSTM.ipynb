{
 "cells": [
  {
   "cell_type": "markdown",
   "metadata": {},
   "source": [
    "## Building a model"
   ]
  },
  {
   "cell_type": "code",
   "execution_count": 1,
   "metadata": {},
   "outputs": [
    {
     "data": {
      "application/javascript": [
       "IPython.notebook.set_autosave_interval(5000)"
      ]
     },
     "metadata": {},
     "output_type": "display_data"
    },
    {
     "name": "stdout",
     "output_type": "stream",
     "text": [
      "Autosaving every 5 seconds\n"
     ]
    }
   ],
   "source": [
    "%autosave 5\n",
    "\n",
    "from keras.models import Sequential\n",
    "from keras.layers.recurrent import LSTM\n",
    "from keras.layers.core import Dense, Activation"
   ]
  },
  {
   "cell_type": "code",
   "execution_count": 2,
   "metadata": {},
   "outputs": [],
   "source": [
    "# period_length is the size of the period to use as training input.\n",
    "# Here I am using a 7-day period to predict a week in the future. \n",
    "period_length = 7\n",
    "\n",
    "# number_of_periods is the number of periods used as training input.\n",
    "# There are 77 weeks available in our dataset. \n",
    "# The very last week is used to test the LSTM network on every epoch, so here i am using 76 periods to train it.\n",
    "number_of_periods = 76"
   ]
  },
  {
   "cell_type": "code",
   "execution_count": 3,
   "metadata": {},
   "outputs": [],
   "source": [
    "def build_model(period_length, number_of_periods, batch_size=1):\n",
    "    \"\"\"Build an LSTM model using Keras.\n",
    "\n",
    "    Parameters\n",
    "    ----------\n",
    "    period_length: int\n",
    "        The size of each observation used as input.\n",
    "\n",
    "    number_of_periods: int\n",
    "        The number of periods available in the\n",
    "        dataset.\n",
    "\n",
    "    batch_size: int\n",
    "        The size of the batch used in each training\n",
    "        period.\n",
    "\n",
    "    Returns\n",
    "    -------\n",
    "    model: Keras model\n",
    "        Compiled Keras model that can be trained\n",
    "        and stored in disk.\n",
    "    \"\"\"\n",
    "    model = Sequential()\n",
    "    model.add(LSTM(\n",
    "        units=period_length,\n",
    "        batch_input_shape=(batch_size, number_of_periods, period_length),\n",
    "        input_shape=(number_of_periods, period_length),\n",
    "        return_sequences=False, stateful=False))\n",
    "\n",
    "    model.add(Dense(units=period_length))\n",
    "    model.add(Activation(\"linear\"))\n",
    "\n",
    "    model.compile(loss=\"mse\", optimizer=\"rmsprop\")\n",
    "\n",
    "    return model"
   ]
  },
  {
   "cell_type": "markdown",
   "metadata": {},
   "source": [
    "## Saving the model"
   ]
  },
  {
   "cell_type": "code",
   "execution_count": 4,
   "metadata": {},
   "outputs": [],
   "source": [
    "model = build_model(period_length=period_length, number_of_periods=number_of_periods)\n",
    "model.save('bitcoin_lstm_v0.h5')"
   ]
  },
  {
   "cell_type": "code",
   "execution_count": 5,
   "metadata": {},
   "outputs": [
    {
     "data": {
      "application/javascript": [
       "IPython.notebook.set_autosave_interval(5000)"
      ]
     },
     "metadata": {},
     "output_type": "display_data"
    },
    {
     "name": "stdout",
     "output_type": "stream",
     "text": [
      "Autosaving every 5 seconds\n"
     ]
    }
   ],
   "source": [
    "%autosave 5\n",
    "\n",
    "#  Import necessary libraries\n",
    "import numpy as np\n",
    "import pandas as pd\n",
    "import matplotlib.pyplot as plt\n",
    "%matplotlib inline\n",
    "plt.style.use('seaborn-white')\n",
    "\n",
    "from keras.models import load_model"
   ]
  },
  {
   "cell_type": "code",
   "execution_count": 6,
   "metadata": {},
   "outputs": [
    {
     "data": {
      "text/html": [
       "<div>\n",
       "<style scoped>\n",
       "    .dataframe tbody tr th:only-of-type {\n",
       "        vertical-align: middle;\n",
       "    }\n",
       "\n",
       "    .dataframe tbody tr th {\n",
       "        vertical-align: top;\n",
       "    }\n",
       "\n",
       "    .dataframe thead th {\n",
       "        text-align: right;\n",
       "    }\n",
       "</style>\n",
       "<table border=\"1\" class=\"dataframe\">\n",
       "  <thead>\n",
       "    <tr style=\"text-align: right;\">\n",
       "      <th></th>\n",
       "      <th>date</th>\n",
       "      <th>iso_week</th>\n",
       "      <th>close</th>\n",
       "      <th>volume</th>\n",
       "      <th>close_point_relative_normalization</th>\n",
       "      <th>volume_point_relative_normalization</th>\n",
       "    </tr>\n",
       "  </thead>\n",
       "  <tbody>\n",
       "    <tr>\n",
       "      <th>0</th>\n",
       "      <td>2016-01-01</td>\n",
       "      <td>2016-00</td>\n",
       "      <td>434.33</td>\n",
       "      <td>36278900.0</td>\n",
       "      <td>0.000000</td>\n",
       "      <td>0.000000</td>\n",
       "    </tr>\n",
       "    <tr>\n",
       "      <th>1</th>\n",
       "      <td>2016-01-02</td>\n",
       "      <td>2016-00</td>\n",
       "      <td>433.44</td>\n",
       "      <td>30096600.0</td>\n",
       "      <td>-0.002049</td>\n",
       "      <td>-0.170410</td>\n",
       "    </tr>\n",
       "    <tr>\n",
       "      <th>2</th>\n",
       "      <td>2016-01-03</td>\n",
       "      <td>2016-01</td>\n",
       "      <td>430.01</td>\n",
       "      <td>39633800.0</td>\n",
       "      <td>0.000000</td>\n",
       "      <td>0.000000</td>\n",
       "    </tr>\n",
       "    <tr>\n",
       "      <th>3</th>\n",
       "      <td>2016-01-04</td>\n",
       "      <td>2016-01</td>\n",
       "      <td>433.09</td>\n",
       "      <td>38477500.0</td>\n",
       "      <td>0.007163</td>\n",
       "      <td>-0.029175</td>\n",
       "    </tr>\n",
       "    <tr>\n",
       "      <th>4</th>\n",
       "      <td>2016-01-05</td>\n",
       "      <td>2016-01</td>\n",
       "      <td>431.96</td>\n",
       "      <td>34522600.0</td>\n",
       "      <td>0.004535</td>\n",
       "      <td>-0.128961</td>\n",
       "    </tr>\n",
       "  </tbody>\n",
       "</table>\n",
       "</div>"
      ],
      "text/plain": [
       "         date iso_week   close      volume  \\\n",
       "0  2016-01-01  2016-00  434.33  36278900.0   \n",
       "1  2016-01-02  2016-00  433.44  30096600.0   \n",
       "2  2016-01-03  2016-01  430.01  39633800.0   \n",
       "3  2016-01-04  2016-01  433.09  38477500.0   \n",
       "4  2016-01-05  2016-01  431.96  34522600.0   \n",
       "\n",
       "   close_point_relative_normalization  volume_point_relative_normalization  \n",
       "0                            0.000000                             0.000000  \n",
       "1                           -0.002049                            -0.170410  \n",
       "2                            0.000000                             0.000000  \n",
       "3                            0.007163                            -0.029175  \n",
       "4                            0.004535                            -0.128961  "
      ]
     },
     "execution_count": 6,
     "metadata": {},
     "output_type": "execute_result"
    }
   ],
   "source": [
    "#  Import training dataset\n",
    "train = pd.read_csv('data/train_dataset.csv')\n",
    "train.head()"
   ]
  },
  {
   "cell_type": "markdown",
   "metadata": {},
   "source": [
    "## Load the model"
   ]
  },
  {
   "cell_type": "code",
   "execution_count": 7,
   "metadata": {},
   "outputs": [],
   "source": [
    "model = load_model('bitcoin_lstm_v0.h5')"
   ]
  },
  {
   "cell_type": "markdown",
   "metadata": {},
   "source": [
    "## Reshape data"
   ]
  },
  {
   "cell_type": "code",
   "execution_count": 8,
   "metadata": {},
   "outputs": [],
   "source": [
    "def create_groups(data, group_size=7):\n",
    "    \"\"\"Create distinct groups from a continuous series.\n",
    "    \n",
    "    Parameters\n",
    "    ----------\n",
    "    data: np.array\n",
    "        Series of continious observations.\n",
    "\n",
    "    group_size: int, default 7\n",
    "        Determines how large the groups are. That is,\n",
    "        how many observations each group contains.\n",
    "    \n",
    "    Returns\n",
    "    -------\n",
    "    A Numpy array object. \n",
    "    \"\"\"\n",
    "    samples = []\n",
    "    for i in range(0, len(data), group_size):\n",
    "        sample = list(data[i:i + group_size])\n",
    "        if len(sample) == group_size:\n",
    "            samples.append(np.array(sample).reshape(1, group_size))\n",
    "    \n",
    "    return np.array(samples)"
   ]
  },
  {
   "cell_type": "code",
   "execution_count": 9,
   "metadata": {},
   "outputs": [
    {
     "data": {
      "text/plain": [
       "2"
      ]
     },
     "execution_count": 9,
     "metadata": {},
     "output_type": "execute_result"
    }
   ],
   "source": [
    "#  Find the remainder when the number of observations is divided by group size\n",
    "len(train) % 7"
   ]
  },
  {
   "cell_type": "code",
   "execution_count": 10,
   "metadata": {},
   "outputs": [
    {
     "name": "stdout",
     "output_type": "stream",
     "text": [
      "(77, 1, 7)\n"
     ]
    }
   ],
   "source": [
    "#  Creating groups of 7 from our data.\n",
    "#  We drop the first two observations so that the\n",
    "#  number of total observations is divisible by the `group_size`.\n",
    "data = create_groups(train['close_point_relative_normalization'][2:].values)\n",
    "print(data.shape)"
   ]
  },
  {
   "cell_type": "code",
   "execution_count": 11,
   "metadata": {},
   "outputs": [
    {
     "name": "stdout",
     "output_type": "stream",
     "text": [
      "(1, 76, 7)\n",
      "(1, 7)\n"
     ]
    }
   ],
   "source": [
    "#  Reshape data into format expected by LSTM layer\n",
    "X_train = data[:-1, :].reshape(1, 76, 7)\n",
    "Y_validation = data[-1].reshape(1, 7)\n",
    "print(X_train.shape)\n",
    "print(Y_validation.shape)"
   ]
  },
  {
   "cell_type": "markdown",
   "metadata": {},
   "source": [
    "## Train the model"
   ]
  },
  {
   "cell_type": "code",
   "execution_count": 12,
   "metadata": {},
   "outputs": [
    {
     "name": "stdout",
     "output_type": "stream",
     "text": [
      "Epoch 1/100\n",
      "1/1 [==============================] - 0s 1ms/step - loss: 0.0039\n",
      "Epoch 2/100\n",
      "1/1 [==============================] - 0s 993us/step - loss: 0.0033\n",
      "Epoch 3/100\n",
      "1/1 [==============================] - 0s 1ms/step - loss: 0.0029\n",
      "Epoch 4/100\n",
      "1/1 [==============================] - 0s 1ms/step - loss: 0.0026\n",
      "Epoch 5/100\n",
      "1/1 [==============================] - 0s 3ms/step - loss: 0.0024\n",
      "Epoch 6/100\n",
      "1/1 [==============================] - 0s 1ms/step - loss: 0.0022\n",
      "Epoch 7/100\n",
      "1/1 [==============================] - 0s 1ms/step - loss: 0.0020\n",
      "Epoch 8/100\n",
      "1/1 [==============================] - 0s 1ms/step - loss: 0.0018\n",
      "Epoch 9/100\n",
      "1/1 [==============================] - 0s 2ms/step - loss: 0.0017\n",
      "Epoch 10/100\n",
      "1/1 [==============================] - 0s 2ms/step - loss: 0.0015\n",
      "Epoch 11/100\n",
      "1/1 [==============================] - 0s 1ms/step - loss: 0.0014\n",
      "Epoch 12/100\n",
      "1/1 [==============================] - 0s 1ms/step - loss: 0.0013\n",
      "Epoch 13/100\n",
      "1/1 [==============================] - 0s 3ms/step - loss: 0.0012\n",
      "Epoch 14/100\n",
      "1/1 [==============================] - 0s 1ms/step - loss: 0.0011\n",
      "Epoch 15/100\n",
      "1/1 [==============================] - 0s 1ms/step - loss: 0.0010\n",
      "Epoch 16/100\n",
      "1/1 [==============================] - 0s 2ms/step - loss: 9.1601e-04\n",
      "Epoch 17/100\n",
      "1/1 [==============================] - 0s 1ms/step - loss: 8.3325e-04\n",
      "Epoch 18/100\n",
      "1/1 [==============================] - 0s 2ms/step - loss: 7.5559e-04\n",
      "Epoch 19/100\n",
      "1/1 [==============================] - 0s 1ms/step - loss: 6.8282e-04\n",
      "Epoch 20/100\n",
      "1/1 [==============================] - 0s 1ms/step - loss: 6.1473e-04\n",
      "Epoch 21/100\n",
      "1/1 [==============================] - 0s 3ms/step - loss: 5.5115e-04\n",
      "Epoch 22/100\n",
      "1/1 [==============================] - 0s 1ms/step - loss: 4.9191e-04\n",
      "Epoch 23/100\n",
      "1/1 [==============================] - 0s 1ms/step - loss: 4.3687e-04\n",
      "Epoch 24/100\n",
      "1/1 [==============================] - 0s 1ms/step - loss: 3.8588e-04\n",
      "Epoch 25/100\n",
      "1/1 [==============================] - 0s 1ms/step - loss: 3.3884e-04\n",
      "Epoch 26/100\n",
      "1/1 [==============================] - 0s 1ms/step - loss: 2.9560e-04\n",
      "Epoch 27/100\n",
      "1/1 [==============================] - 0s 1ms/step - loss: 2.5608e-04\n",
      "Epoch 28/100\n",
      "1/1 [==============================] - 0s 1ms/step - loss: 2.2015e-04\n",
      "Epoch 29/100\n",
      "1/1 [==============================] - 0s 2ms/step - loss: 1.8771e-04\n",
      "Epoch 30/100\n",
      "1/1 [==============================] - 0s 1ms/step - loss: 1.5863e-04\n",
      "Epoch 31/100\n",
      "1/1 [==============================] - 0s 4ms/step - loss: 1.3279e-04\n",
      "Epoch 32/100\n",
      "1/1 [==============================] - 0s 1ms/step - loss: 1.1003e-04\n",
      "Epoch 33/100\n",
      "1/1 [==============================] - 0s 1ms/step - loss: 9.0180e-05\n",
      "Epoch 34/100\n",
      "1/1 [==============================] - 0s 1ms/step - loss: 7.3056e-05\n",
      "Epoch 35/100\n",
      "1/1 [==============================] - 0s 1ms/step - loss: 5.8452e-05\n",
      "Epoch 36/100\n",
      "1/1 [==============================] - 0s 2ms/step - loss: 4.6151e-05\n",
      "Epoch 37/100\n",
      "1/1 [==============================] - 0s 1ms/step - loss: 3.5929e-05\n",
      "Epoch 38/100\n",
      "1/1 [==============================] - 0s 1ms/step - loss: 2.7553e-05\n",
      "Epoch 39/100\n",
      "1/1 [==============================] - 0s 983us/step - loss: 2.0802e-05\n",
      "Epoch 40/100\n",
      "1/1 [==============================] - 0s 1ms/step - loss: 1.5526e-05\n",
      "Epoch 41/100\n",
      "1/1 [==============================] - 0s 1ms/step - loss: 1.2192e-05\n",
      "Epoch 42/100\n",
      "1/1 [==============================] - 0s 1ms/step - loss: 1.0971e-05\n",
      "Epoch 43/100\n",
      "1/1 [==============================] - 0s 2ms/step - loss: 9.5452e-06\n",
      "Epoch 44/100\n",
      "1/1 [==============================] - 0s 1ms/step - loss: 6.2288e-06\n",
      "Epoch 45/100\n",
      "1/1 [==============================] - 0s 1ms/step - loss: 3.9989e-06\n",
      "Epoch 46/100\n",
      "1/1 [==============================] - 0s 1ms/step - loss: 2.4845e-06\n",
      "Epoch 47/100\n",
      "1/1 [==============================] - 0s 1ms/step - loss: 1.6159e-06\n",
      "Epoch 48/100\n",
      "1/1 [==============================] - 0s 1ms/step - loss: 1.0640e-06\n",
      "Epoch 49/100\n",
      "1/1 [==============================] - 0s 1ms/step - loss: 7.4887e-07\n",
      "Epoch 50/100\n",
      "1/1 [==============================] - 0s 2ms/step - loss: 5.7612e-07\n",
      "Epoch 51/100\n",
      "1/1 [==============================] - 0s 1ms/step - loss: 5.3738e-07\n",
      "Epoch 52/100\n",
      "1/1 [==============================] - 0s 1ms/step - loss: 6.1020e-07\n",
      "Epoch 53/100\n",
      "1/1 [==============================] - 0s 2ms/step - loss: 8.5985e-07\n",
      "Epoch 54/100\n",
      "1/1 [==============================] - 0s 4ms/step - loss: 1.2847e-06\n",
      "Epoch 55/100\n",
      "1/1 [==============================] - 0s 4ms/step - loss: 1.9680e-06\n",
      "Epoch 56/100\n",
      "1/1 [==============================] - 0s 3ms/step - loss: 2.5171e-06\n",
      "Epoch 57/100\n",
      "1/1 [==============================] - 0s 5ms/step - loss: 2.8717e-06\n",
      "Epoch 58/100\n",
      "1/1 [==============================] - 0s 2ms/step - loss: 2.5436e-06\n",
      "Epoch 59/100\n",
      "1/1 [==============================] - 0s 2ms/step - loss: 2.2092e-06\n",
      "Epoch 60/100\n",
      "1/1 [==============================] - 0s 1ms/step - loss: 1.7188e-06\n",
      "Epoch 61/100\n",
      "1/1 [==============================] - 0s 1ms/step - loss: 1.4762e-06\n",
      "Epoch 62/100\n",
      "1/1 [==============================] - 0s 1ms/step - loss: 1.2796e-06\n",
      "Epoch 63/100\n",
      "1/1 [==============================] - 0s 1ms/step - loss: 1.2747e-06\n",
      "Epoch 64/100\n",
      "1/1 [==============================] - 0s 2ms/step - loss: 1.3464e-06\n",
      "Epoch 65/100\n",
      "1/1 [==============================] - 0s 2ms/step - loss: 1.6272e-06\n",
      "Epoch 66/100\n",
      "1/1 [==============================] - 0s 2ms/step - loss: 2.0850e-06\n",
      "Epoch 67/100\n",
      "1/1 [==============================] - 0s 1ms/step - loss: 2.8972e-06\n",
      "Epoch 68/100\n",
      "1/1 [==============================] - 0s 3ms/step - loss: 4.0029e-06\n",
      "Epoch 69/100\n",
      "1/1 [==============================] - 0s 1ms/step - loss: 5.2654e-06\n",
      "Epoch 70/100\n",
      "1/1 [==============================] - 0s 962us/step - loss: 6.0642e-06\n",
      "Epoch 71/100\n",
      "1/1 [==============================] - 0s 973us/step - loss: 5.6298e-06\n",
      "Epoch 72/100\n",
      "1/1 [==============================] - 0s 1ms/step - loss: 4.4078e-06\n",
      "Epoch 73/100\n",
      "1/1 [==============================] - 0s 1ms/step - loss: 2.9813e-06\n",
      "Epoch 74/100\n",
      "1/1 [==============================] - 0s 1ms/step - loss: 2.0683e-06\n",
      "Epoch 75/100\n",
      "1/1 [==============================] - 0s 991us/step - loss: 1.4743e-06\n",
      "Epoch 76/100\n",
      "1/1 [==============================] - 0s 1ms/step - loss: 1.1949e-06\n",
      "Epoch 77/100\n",
      "1/1 [==============================] - 0s 1ms/step - loss: 1.0587e-06\n",
      "Epoch 78/100\n",
      "1/1 [==============================] - 0s 1ms/step - loss: 1.0821e-06\n",
      "Epoch 79/100\n",
      "1/1 [==============================] - 0s 1ms/step - loss: 1.2030e-06\n",
      "Epoch 80/100\n",
      "1/1 [==============================] - 0s 2ms/step - loss: 1.5028e-06\n",
      "Epoch 81/100\n",
      "1/1 [==============================] - 0s 1ms/step - loss: 1.9326e-06\n",
      "Epoch 82/100\n",
      "1/1 [==============================] - 0s 1ms/step - loss: 2.6249e-06\n",
      "Epoch 83/100\n",
      "1/1 [==============================] - ETA: 0s - loss: 3.2975e-0 - 0s 2ms/step - loss: 3.2975e-06\n",
      "Epoch 84/100\n",
      "1/1 [==============================] - 0s 1ms/step - loss: 4.1287e-06\n",
      "Epoch 85/100\n",
      "1/1 [==============================] - 0s 2ms/step - loss: 4.4525e-06\n",
      "Epoch 86/100\n",
      "1/1 [==============================] - 0s 1ms/step - loss: 5.1381e-06\n",
      "Epoch 87/100\n",
      "1/1 [==============================] - 0s 1ms/step - loss: 5.2623e-06\n",
      "Epoch 88/100\n",
      "1/1 [==============================] - 0s 947us/step - loss: 5.6651e-06\n",
      "Epoch 89/100\n",
      "1/1 [==============================] - 0s 2ms/step - loss: 5.0687e-06\n",
      "Epoch 90/100\n",
      "1/1 [==============================] - 0s 1ms/step - loss: 4.8896e-06\n",
      "Epoch 91/100\n",
      "1/1 [==============================] - 0s 1ms/step - loss: 4.7016e-06\n",
      "Epoch 92/100\n",
      "1/1 [==============================] - 0s 1ms/step - loss: 4.6318e-06\n",
      "Epoch 93/100\n",
      "1/1 [==============================] - 0s 1ms/step - loss: 4.3722e-06\n",
      "Epoch 94/100\n",
      "1/1 [==============================] - 0s 2ms/step - loss: 3.8603e-06\n",
      "Epoch 95/100\n",
      "1/1 [==============================] - 0s 2ms/step - loss: 3.3170e-06\n",
      "Epoch 96/100\n",
      "1/1 [==============================] - 0s 1ms/step - loss: 2.7914e-06\n",
      "Epoch 97/100\n",
      "1/1 [==============================] - 0s 2ms/step - loss: 2.4430e-06\n",
      "Epoch 98/100\n",
      "1/1 [==============================] - 0s 3ms/step - loss: 2.2151e-06\n",
      "Epoch 99/100\n",
      "1/1 [==============================] - 0s 2ms/step - loss: 2.1591e-06\n",
      "Epoch 100/100\n"
     ]
    },
    {
     "name": "stdout",
     "output_type": "stream",
     "text": [
      "1/1 [==============================] - 0s 1ms/step - loss: 2.2237e-06\n",
      "CPU times: user 6.05 s, sys: 520 ms, total: 6.57 s\n",
      "Wall time: 6.25 s\n"
     ]
    }
   ],
   "source": [
    "%%time\n",
    "#  Train the model\n",
    "history = model.fit(\n",
    "    x=X_train, y=Y_validation,\n",
    "    batch_size=32, epochs=100)"
   ]
  },
  {
   "cell_type": "code",
   "execution_count": 13,
   "metadata": {},
   "outputs": [
    {
     "data": {
      "image/png": "[encoded data removed]",
      "text/plain": [
       "<Figure size 1008x288 with 1 Axes>"
      ]
     },
     "metadata": {},
     "output_type": "display_data"
    }
   ],
   "source": [
    "#  Plotting loss function\n",
    "pd.Series(history.history['loss']).plot(figsize=(14, 4));"
   ]
  },
  {
   "cell_type": "markdown",
   "metadata": {},
   "source": [
    "## Making predictions"
   ]
  },
  {
   "cell_type": "code",
   "execution_count": 14,
   "metadata": {},
   "outputs": [
    {
     "data": {
      "text/plain": [
       "array([-0.00152344,  0.01557525,  0.0656655 ,  0.05613946,  0.06082529,\n",
       "        0.07926988,  0.02534248], dtype=float32)"
      ]
     },
     "execution_count": 14,
     "metadata": {},
     "output_type": "execute_result"
    }
   ],
   "source": [
    "#  Make predictions using X_train data\n",
    "predictions = model.predict(x=X_train)[0]\n",
    "predictions"
   ]
  },
  {
   "cell_type": "code",
   "execution_count": 15,
   "metadata": {},
   "outputs": [],
   "source": [
    "def denormalize(series, last_value):\n",
    "    \"\"\"Denormalize the values for a given series.\n",
    "    \n",
    "    This uses the last value available (i.e. the last\n",
    "    closing price of the week before our prediction)\n",
    "    as a reference for scaling the predicted results.\n",
    "    \"\"\"\n",
    "    result = last_value * (series + 1)\n",
    "    return result"
   ]
  },
  {
   "cell_type": "code",
   "execution_count": 16,
   "metadata": {},
   "outputs": [
    {
     "data": {
      "text/plain": [
       "array([2651.8337, 2697.246 , 2830.2795, 2804.9795, 2817.4248, 2866.4111,\n",
       "       2723.1865], dtype=float32)"
      ]
     },
     "execution_count": 16,
     "metadata": {},
     "output_type": "execute_result"
    }
   ],
   "source": [
    "#  Denormalize predictions\n",
    "last_weeks_value = train[train['date'] == train['date'][:-7].max()]['close'].values[0]\n",
    "\n",
    "denormalized_prediction = denormalize(predictions, last_weeks_value)\n",
    "denormalized_prediction"
   ]
  },
  {
   "cell_type": "code",
   "execution_count": 17,
   "metadata": {},
   "outputs": [
    {
     "data": {
      "image/png": "[encoded data removed]",
      "text/plain": [
       "<Figure size 1008x288 with 1 Axes>"
      ]
     },
     "metadata": {},
     "output_type": "display_data"
    }
   ],
   "source": [
    "#  Plotting denormalized predictions against actual predictions\n",
    "plt.figure(figsize=(14, 4))\n",
    "\n",
    "plt.plot(train['close'][-7:].values, label='Actual')\n",
    "plt.plot(denormalized_prediction, color='#d35400', label='Predicted')\n",
    "\n",
    "plt.grid()\n",
    "plt.legend();"
   ]
  },
  {
   "cell_type": "code",
   "execution_count": 18,
   "metadata": {},
   "outputs": [
    {
     "data": {
      "image/png": "[encoded data removed]",
      "text/plain": [
       "<Figure size 1008x288 with 1 Axes>"
      ]
     },
     "metadata": {},
     "output_type": "display_data"
    }
   ],
   "source": [
    "prediction_plot = np.zeros(len(train)-2)\n",
    "prediction_plot[:] = np.nan\n",
    "prediction_plot[-7:] = denormalized_prediction\n",
    "\n",
    "plt.figure(figsize=(14, 4))\n",
    "plt.plot(train['close'][-30:].values, label='Actual')\n",
    "plt.plot(prediction_plot[-30:], color='#d35400', linestyle='--', label='Predicted')\n",
    "plt.axvline(30 - 7, color='r', linestyle='--', linewidth=1)\n",
    "\n",
    "plt.grid()\n",
    "plt.legend(loc='lower right');"
   ]
  },
  {
   "cell_type": "code",
   "execution_count": 19,
   "metadata": {},
   "outputs": [],
   "source": [
    "#  Saving model to the disk\n",
    "model.save('bitcoin_lstm_v0_trained.h5')"
   ]
  },
  {
   "cell_type": "code",
   "execution_count": null,
   "metadata": {},
   "outputs": [],
   "source": []
  },
  {
   "cell_type": "code",
   "execution_count": null,
   "metadata": {},
   "outputs": [],
   "source": []
  },
  {
   "cell_type": "code",
   "execution_count": null,
   "metadata": {},
   "outputs": [],
   "source": []
  }
 ],
 "metadata": {
  "kernelspec": {
   "display_name": "Python 3",
   "language": "python",
   "name": "python3"
  },
  "language_info": {
   "codemirror_mode": {
    "name": "ipython",
    "version": 3
   },
   "file_extension": ".py",
   "mimetype": "text/x-python",
   "name": "python",
   "nbconvert_exporter": "python",
   "pygments_lexer": "ipython3",
   "version": "3.7.9"
  }
 },
 "nbformat": 4,
 "nbformat_minor": 4
}
